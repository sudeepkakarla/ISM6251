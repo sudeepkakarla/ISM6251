{
 "cells": [
  {
   "cell_type": "code",
   "execution_count": 1,
   "id": "14d6dcf7",
   "metadata": {},
   "outputs": [
    {
     "name": "stdout",
     "output_type": "stream",
     "text": [
      "\n",
      "*****************************************************\n",
      "* Lawnmover Ownership Prediction Model *\n",
      "*****************************************************\n",
      "\n",
      "Please provide the Income: 60\n",
      "Please Provide the Lotsize: 40\n",
      "\n",
      "The Lawnmover Ownership Prediction Model indicates probability of Ownership at 0.9624, therefore it is indicated as: Nonowner.\n",
      "\n"
     ]
    }
   ],
   "source": [
    "import pandas as pd\n",
    "import numpy as np\n",
    "import matplotlib.pyplot as plt\n",
    "from sklearn.metrics import confusion_matrix\n",
    "import pickle\n",
    "\n",
    "# Uncomment the following snippet of code to debug problems with finding the .pkl file path\n",
    "# This snippet of code will exit the program and print the current working directory.\n",
    "#import os\n",
    "#exit(os.getcwd())\n",
    "\n",
    "ridingmowers_model = pickle.load(open(\"./SVM_Linear_Model.pkl\", \"rb\"))\n",
    "print(\"\\n*****************************************************\")\n",
    "print(\"* Lawnmover Ownership Prediction Model *\")\n",
    "print(\"*****************************************************\\n\")\n",
    "Income = float(input(\"Please provide the Income: \"))\n",
    "Lot_Size= float(input(\"Please Provide the Lotsize: \"))\n",
    "df = pd.DataFrame({'Income': [Income], 'Lot_Size': [Lot_Size]})\n",
    "result = ridingmowers_model.predict(df)\n",
    "probability = ridingmowers_model.predict_proba(df)\n",
    "Ownership = ('Owner', 'Nonowner')\n",
    "print(f\"\\nThe Lawnmover Ownership Prediction Model indicates probability of Ownership at {probability[0][1]:.4f}, therefore it is indicated as: {Ownership[result[0]]}.\\n\")"
   ]
  },
  {
   "cell_type": "code",
   "execution_count": null,
   "id": "954e0362",
   "metadata": {},
   "outputs": [],
   "source": []
  }
 ],
 "metadata": {
  "kernelspec": {
   "display_name": "Python 3 (ipykernel)",
   "language": "python",
   "name": "python3"
  },
  "language_info": {
   "codemirror_mode": {
    "name": "ipython",
    "version": 3
   },
   "file_extension": ".py",
   "mimetype": "text/x-python",
   "name": "python",
   "nbconvert_exporter": "python",
   "pygments_lexer": "ipython3",
   "version": "3.9.12"
  }
 },
 "nbformat": 4,
 "nbformat_minor": 5
}
